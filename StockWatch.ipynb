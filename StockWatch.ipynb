{
  "nbformat": 4,
  "nbformat_minor": 0,
  "metadata": {
    "colab": {
      "provenance": [],
      "authorship_tag": "ABX9TyNcjPeCv8NRxntFDxF5NOlB",
      "include_colab_link": true
    },
    "kernelspec": {
      "name": "python3",
      "display_name": "Python 3"
    },
    "language_info": {
      "name": "python"
    }
  },
  "cells": [
    {
      "cell_type": "markdown",
      "metadata": {
        "id": "view-in-github",
        "colab_type": "text"
      },
      "source": [
        "<a href=\"https://colab.research.google.com/github/swsmith25/GiftLink/blob/main/StockWatch.ipynb\" target=\"_parent\"><img src=\"https://colab.research.google.com/assets/colab-badge.svg\" alt=\"Open In Colab\"/></a>"
      ]
    },
    {
      "cell_type": "markdown",
      "source": [
        "#Where should I invest today?\n",
        "I run the model and it tells me where to put my money! Of course, use discretion.\n",
        "###Dependencies and Packages\n",
        "Yfinance: Yahoo Finance: calls Yahoo Finance's APIs to download daily S&P stock data"
      ],
      "metadata": {
        "id": "6E_Pcy8sNcwt"
      }
    },
    {
      "cell_type": "code",
      "execution_count": null,
      "metadata": {
        "id": "LKM19eH_MnTd"
      },
      "outputs": [],
      "source": [
        "import yfinance as yf\n"
      ]
    },
    {
      "cell_type": "code",
      "source": [
        "sp500 = yf.Ticker(\"^GSPC\")\n",
        "sp500 = sp500.history(period=\"max\")\n",
        "# TODO: add more stocks"
      ],
      "metadata": {
        "id": "gnns-HIFsTv5"
      },
      "execution_count": null,
      "outputs": []
    },
    {
      "cell_type": "code",
      "source": [
        "\n"
      ],
      "metadata": {
        "id": "jY4A30S6s5K0"
      },
      "execution_count": null,
      "outputs": []
    }
  ]
}